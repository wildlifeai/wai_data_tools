{
 "cells": [
  {
   "cell_type": "markdown",
   "metadata": {
    "id": "-pZy298eG3mx"
   },
   "source": [
    "# Demo for creating edge impulse dataset\n",
    "This notebook shows you how to install and use the wai_data_tools package for creating your own dataset."
   ]
  },
  {
   "cell_type": "markdown",
   "metadata": {
    "id": "MzRHesFHG3m0"
   },
   "source": [
    "# Install dependencies"
   ]
  },
  {
   "cell_type": "code",
   "execution_count": null,
   "metadata": {
    "id": "lMTzLPX6G3m0"
   },
   "outputs": [],
   "source": [
    "!pip install fiftyone wandb --quiet\n",
    "!pip install git+https://github.com/wildlifeai/wai_data_tools.git --quiet"
   ]
  },
  {
   "cell_type": "markdown",
   "metadata": {
    "id": "zGdIRLtxG3m1"
   },
   "source": [
    "# Get data from Weights & Biases"
   ]
  },
  {
   "cell_type": "code",
   "execution_count": null,
   "metadata": {
    "id": "-kAEYmEWG3m1"
   },
   "outputs": [],
   "source": [
    "import wandb \n",
    "\n",
    "run = wandb.init()\n",
    "artifact = run.use_artifact('wildlife-ai/uncategorized/taranaki_example:v0', type='dataset')\n",
    "artifact_dir = artifact.download()"
   ]
  },
  {
   "cell_type": "markdown",
   "metadata": {
    "id": "ILhAnX-MG3m2"
   },
   "source": [
    "\n",
    "\n",
    "# Setup"
   ]
  },
  {
   "cell_type": "code",
   "execution_count": null,
   "metadata": {
    "id": "PoCq3w2iG3m3"
   },
   "outputs": [],
   "source": [
    "import pathlib\n",
    "PATH_TO_RAW_DATA = pathlib.Path(\"artifacts/taranaki_example:v0\")"
   ]
  },
  {
   "cell_type": "markdown",
   "metadata": {
    "id": "ivrMmM68G3m3"
   },
   "source": [
    "# Demo of actions\n",
    "\n",
    "Now we will showcase how you can use some of the actions available with the data tools. We will show how to:\n",
    "\n",
    "1. Create a dataset\n",
    "2. List your datasets\n",
    "3. Show dataset in FiftyOne App\n",
    "4. Create annotation job\n",
    "5. Load annotations back to FiftyOne\n",
    "6. Export to disk\n",
    "7. (Optional) Delete a dataset"
   ]
  },
  {
   "cell_type": "code",
   "execution_count": null,
   "metadata": {
    "id": "H76-sEV2Hw9D"
   },
   "outputs": [],
   "source": [
    "from wai_data_tools import actions"
   ]
  },
  {
   "cell_type": "code",
   "execution_count": null,
   "metadata": {
    "id": "dNR1KdPqHzg7"
   },
   "outputs": [],
   "source": [
    "dataset_name=\"example\"\n",
    "\n",
    "actions.create_dataset(\n",
    "    dataset_name=dataset_name,\n",
    "    data_dir=PATH_TO_RAW_DATA,\n",
    ")"
   ]
  },
  {
   "cell_type": "code",
   "execution_count": null,
   "metadata": {
    "id": "GIbY4TR2IpKq"
   },
   "outputs": [],
   "source": [
    "actions.list_datasets()"
   ]
  },
  {
   "cell_type": "code",
   "execution_count": null,
   "metadata": {
    "id": "7pPsETfeK2Ht",
    "scrolled": false
   },
   "outputs": [],
   "source": [
    "actions.show_dataset(dataset_name=dataset_name)"
   ]
  },
  {
   "cell_type": "markdown",
   "metadata": {
    "id": "DZlOGu3mOLRw"
   },
   "source": [
    "Now lets annotate our data using CVAT. \n",
    "\n",
    "Run cell below and fill in your credentials from https://app.cvat.ai \n",
    "\n",
    "Play around and annotate a few samples before moving to the next step."
   ]
  },
  {
   "cell_type": "code",
   "execution_count": null,
   "metadata": {
    "id": "vP8JOKT5LBSf"
   },
   "outputs": [],
   "source": [
    "actions.create_annotation_job(dataset_name=dataset_name, anno_key=\"anno1\", classes=[\"animal\"])"
   ]
  },
  {
   "cell_type": "markdown",
   "metadata": {
    "id": "FG_0kxwrObM2"
   },
   "source": [
    "Now let's read our annotations back to Colab by running the cell below."
   ]
  },
  {
   "cell_type": "code",
   "execution_count": null,
   "metadata": {
    "id": "hGbtmet4LLBE"
   },
   "outputs": [],
   "source": [
    "actions.read_annotations(dataset_name=dataset_name, anno_key=\"anno1\", cleanup=True)"
   ]
  },
  {
   "cell_type": "markdown",
   "metadata": {
    "id": "a0x7HtivOmwH"
   },
   "source": [
    "Let's have a look at our dataset and see if we can see our annotaitons in the app."
   ]
  },
  {
   "cell_type": "code",
   "execution_count": null,
   "metadata": {
    "id": "jAo0ijy6OmVB"
   },
   "outputs": [],
   "source": [
    "actions.show_dataset(dataset_name=dataset_name)"
   ]
  },
  {
   "cell_type": "markdown",
   "metadata": {
    "id": "inkvx1mjOwrw"
   },
   "source": [
    "Now let's export our data to disk if we want to share it with others."
   ]
  },
  {
   "cell_type": "code",
   "execution_count": null,
   "metadata": {
    "id": "CuoFDuudLWo8"
   },
   "outputs": [],
   "source": [
    "export_location = pathlib.Path(\"export\")\n",
    "actions.export_dataset(dataset_name=dataset_name, export_location=export_location, export_format=\"fiftyone\")"
   ]
  },
  {
   "cell_type": "code",
   "execution_count": null,
   "metadata": {
    "id": "QmVN3NkyLl6X"
   },
   "outputs": [],
   "source": [
    "# Uncomment this if you want to test deleting your dataset\n",
    "actions.delete_dataset(dataset_name=dataset_name)"
   ]
  }
 ],
 "metadata": {
  "colab": {
   "provenance": []
  },
  "kernelspec": {
   "display_name": "Python 3 (ipykernel)",
   "language": "python",
   "name": "python3"
  },
  "language_info": {
   "codemirror_mode": {
    "name": "ipython",
    "version": 3
   },
   "file_extension": ".py",
   "mimetype": "text/x-python",
   "name": "python",
   "nbconvert_exporter": "python",
   "pygments_lexer": "ipython3",
   "version": "3.9.5"
  }
 },
 "nbformat": 4,
 "nbformat_minor": 1
}
